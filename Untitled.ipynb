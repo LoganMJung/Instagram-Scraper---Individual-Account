{
 "cells": [
  {
   "cell_type": "code",
   "execution_count": 3,
   "metadata": {
    "collapsed": false
   },
   "outputs": [
    {
     "name": "stdout",
     "output_type": "stream",
     "text": [
      "['Image', 'In', 'InteractiveShell', 'Out', '_', '__', '___', '__builtin__', '__builtins__', '__doc__', '__loader__', '__name__', '__package__', '__spec__', '_dh', '_exit_code', '_i', '_i1', '_i2', '_i3', '_ih', '_ii', '_iii', '_oh', '_sh', 'cv2', 'date', 'datetime', 'exit', 'face_recognition', 'get_ipython', 'glob', 'io', 'itertools', 'os', 'pd', 'quit', 'read', 'shutil', 'subprocess', 'sys', 'tempfile', 'time', 'types', 'unittest']\n"
     ]
    }
   ],
   "source": [
    "import io, sys, types, os, os.path, time, subprocess, glob, shutil, sys, cv2, face_recognition, unittest, tempfile, glob, datetime\n",
    "\n",
    "import itertools \n",
    "\n",
    "import pandas as pd\n",
    "\n",
    "from IPython import get_ipython\n",
    "from nbformat import read\n",
    "from IPython.core.interactiveshell import InteractiveShell\n",
    "\n",
    "from datetime import date\n",
    "from PIL import Image\n",
    "\n",
    "print(dir())\n",
    "\n",
    "# setting the working dir\n",
    "os.chdir('/Users/lolatlogan/Documents/Projects - Github - School - Work/GitHub/InstagramScraper ')\n",
    "cwd = os.getcwd()\n",
    "\n",
    "import faceblur"
   ]
  },
  {
   "cell_type": "code",
   "execution_count": null,
   "metadata": {
    "collapsed": false
   },
   "outputs": [
    {
     "name": "stdout",
     "output_type": "stream",
     "text": [
      "\u001b[33mDEPRECATION: Python 3.5 reached the end of its life on September 13th, 2020. Please upgrade your Python as Python 3.5 is no longer maintained. pip 21.0 will drop support for Python 3.5 in January 2021. pip 21.0 will remove support for this functionality.\u001b[0m\n",
      "Requirement already satisfied: instagram-scraper in /Users/lolatlogan/anaconda/lib/python3.5/site-packages (1.9.0)\n",
      "Requirement already satisfied: tqdm>=3.8.0 in /Users/lolatlogan/anaconda/lib/python3.5/site-packages (from instagram-scraper) (4.32.2)\n",
      "Requirement already satisfied: moviepy>=1.0.0 in /Users/lolatlogan/anaconda/lib/python3.5/site-packages (from instagram-scraper) (1.0.3)\n",
      "Requirement already satisfied: requests>=2.18.4 in /Users/lolatlogan/anaconda/lib/python3.5/site-packages (from instagram-scraper) (2.22.0)\n",
      "Requirement already satisfied: decorator<5.0,>=4.0.2 in /Users/lolatlogan/anaconda/lib/python3.5/site-packages (from moviepy>=1.0.0->instagram-scraper) (4.0.10)\n",
      "Requirement already satisfied: proglog<=1.0.0 in /Users/lolatlogan/anaconda/lib/python3.5/site-packages (from moviepy>=1.0.0->instagram-scraper) (0.1.9)\n",
      "Requirement already satisfied: numpy; python_version >= \"2.7\" in /Users/lolatlogan/anaconda/lib/python3.5/site-packages (from moviepy>=1.0.0->instagram-scraper) (1.18.5)\n",
      "Requirement already satisfied: imageio-ffmpeg>=0.2.0; python_version >= \"3.4\" in /Users/lolatlogan/anaconda/lib/python3.5/site-packages (from moviepy>=1.0.0->instagram-scraper) (0.4.2)\n",
      "Requirement already satisfied: imageio<3.0,>=2.5; python_version >= \"3.4\" in /Users/lolatlogan/anaconda/lib/python3.5/site-packages (from moviepy>=1.0.0->instagram-scraper) (2.9.0)\n",
      "Requirement already satisfied: chardet<3.1.0,>=3.0.2 in /Users/lolatlogan/anaconda/lib/python3.5/site-packages (from requests>=2.18.4->instagram-scraper) (3.0.4)\n",
      "Requirement already satisfied: urllib3!=1.25.0,!=1.25.1,<1.26,>=1.21.1 in /Users/lolatlogan/anaconda/lib/python3.5/site-packages (from requests>=2.18.4->instagram-scraper) (1.25.3)\n",
      "Requirement already satisfied: certifi>=2017.4.17 in /Users/lolatlogan/anaconda/lib/python3.5/site-packages (from requests>=2.18.4->instagram-scraper) (2019.6.16)\n",
      "Requirement already satisfied: idna<2.9,>=2.5 in /Users/lolatlogan/anaconda/lib/python3.5/site-packages (from requests>=2.18.4->instagram-scraper) (2.8)\n",
      "Requirement already satisfied: pillow in /Users/lolatlogan/anaconda/lib/python3.5/site-packages (from imageio<3.0,>=2.5; python_version >= \"3.4\"->moviepy>=1.0.0->instagram-scraper) (4.3.0)\n",
      "Requirement already satisfied: olefile in /Users/lolatlogan/anaconda/lib/python3.5/site-packages (from pillow->imageio<3.0,>=2.5; python_version >= \"3.4\"->moviepy>=1.0.0->instagram-scraper) (0.46)\n",
      "\u001b[33mWARNING: You are using pip version 20.2.4; however, version 20.3.4 is available.\n",
      "You should consider upgrading via the '/Users/lolatlogan/anaconda/bin/python -m pip install --upgrade pip' command.\u001b[0m\n"
     ]
    }
   ],
   "source": [
    "#! pip install python\n",
    "! pip install instagram-scraper\n",
    "\n",
    "os.chdir('/Users/lolatlogan/Documents/Projects - Github - School - Work/GitHub/Instagram Scraper - Individual Account')\n",
    "! instagram-scraper jung_climbing --destination jungclimbing\n"
   ]
  },
  {
   "cell_type": "code",
   "execution_count": null,
   "metadata": {
    "collapsed": true
   },
   "outputs": [],
   "source": []
  }
 ],
 "metadata": {
  "anaconda-cloud": {},
  "kernelspec": {
   "display_name": "Python [default]",
   "language": "python",
   "name": "python3"
  },
  "language_info": {
   "codemirror_mode": {
    "name": "ipython",
    "version": 3
   },
   "file_extension": ".py",
   "mimetype": "text/x-python",
   "name": "python",
   "nbconvert_exporter": "python",
   "pygments_lexer": "ipython3",
   "version": "3.5.6"
  }
 },
 "nbformat": 4,
 "nbformat_minor": 1
}
